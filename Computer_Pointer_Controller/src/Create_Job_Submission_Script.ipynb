{
 "cells": [
  {
   "cell_type": "code",
   "execution_count": 15,
   "metadata": {},
   "outputs": [
    {
     "name": "stdout",
     "output_type": "stream",
     "text": [
      "Overwriting queue_job.sh\n"
     ]
    }
   ],
   "source": [
    "%%writefile queue_job.sh\n",
    "#!/bin/bash\n",
    "\n",
    "MFD=$1\n",
    "MHPE=$2\n",
    "MFLD=$3\n",
    "MGE=$4\n",
    "INPUT=$5\n",
    "DEVICE=$6\n",
    "THRESHOLD=$7\n",
    "OUTPUT=$8\n",
    "\n",
    "mkdir -p ${OUTPUT}\n",
    "\n",
    "exec 1>${OUTPUT}/stdout.log 2>${OUTPUT}/stderr.log\n",
    "\n",
    "if echo \"$DEVICE\" | grep -q \"FPGA\"; then # if device passed in is FPGA, load bitstream to program FPGA\n",
    "    #Environment variables and compilation for edge compute nodes with FPGAs\n",
    "    export AOCL_BOARD_PACKAGE_ROOT=/opt/intel/openvino/bitstreams/a10_vision_design_sg2_bitstreams/BSP/a10_1150_sg2\n",
    "\n",
    "    source /opt/altera/aocl-pro-rte/aclrte-linux64/init_opencl.sh\n",
    "    \n",
    "    aocl program acl0 /opt/intel/openvino/bitstreams/a10_vision_design_sg2_bitstreams/2020-2_PL2_FP16_MobileNet_Clamp.aocx\n",
    "\n",
    "    export CL_CONTEXT_COMPILER_MODE_INTELFPGA=3\n",
    "fi\n",
    "\n",
    "python3 main.py  --model_face_detection ${MFD} \\\n",
    "                 --model_head_pose_estimation ${MHPE} \\\n",
    "                 --model_facial_landmarks_detection ${MFLD} \\\n",
    "                 --model_gaze_estimation ${MGE} \\\n",
    "                 --input_path ${INPUT} \\\n",
    "                 --device ${DEVICE} \\\n",
    "                 --threshold ${THRESHOLD} \\\n",
    "\n",
    "#cd ${OUTPUT}\n",
    "#tar zcvf output.tgz *"
   ]
  },
  {
   "cell_type": "code",
   "execution_count": null,
   "metadata": {},
   "outputs": [],
   "source": []
  }
 ],
 "metadata": {
  "kernelspec": {
   "display_name": "Python 3",
   "language": "python",
   "name": "python3"
  },
  "language_info": {
   "codemirror_mode": {
    "name": "ipython",
    "version": 3
   },
   "file_extension": ".py",
   "mimetype": "text/x-python",
   "name": "python",
   "nbconvert_exporter": "python",
   "pygments_lexer": "ipython3",
   "version": "3.6.5"
  }
 },
 "nbformat": 4,
 "nbformat_minor": 4
}
